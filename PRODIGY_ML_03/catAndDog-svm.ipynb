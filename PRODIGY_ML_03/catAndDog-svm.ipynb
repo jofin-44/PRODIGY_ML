{
 "cells": [
  {
   "cell_type": "code",
<<<<<<< HEAD
   "execution_count": 3,
=======
   "execution_count": 4,
>>>>>>> 60b3f957cef2b1d9b77892801f1f59546a40e1fb
   "metadata": {},
   "outputs": [],
   "source": [
    "import numpy as np\n",
    "import os\n",
    "import cv2\n",
    "from sklearn.model_selection import train_test_split\n",
    "from sklearn.svm import SVC\n",
    "from sklearn.metrics import accuracy_score"
   ]
  },
  {
   "cell_type": "code",
<<<<<<< HEAD
   "execution_count": 4,
=======
   "execution_count": 16,
>>>>>>> 60b3f957cef2b1d9b77892801f1f59546a40e1fb
   "metadata": {},
   "outputs": [],
   "source": [
    "def load_images(folder):\n",
    "    images = []\n",
    "    labels = []\n",
    "    for filename in os.listdir(folder):\n",
    "        label = filename.split('.')[0]\n",
    "        if label == 'cat':\n",
    "            labels.append(0)\n",
    "        else:\n",
    "            labels.append(1)\n",
    "        img = cv2.imread(os.path.join(folder, filename))\n",
    "        img_resized = cv2.resize(img, (100, 100))  # Resize the image to a fixed size\n",
    "        images.append(img_resized.flatten())    # Flatten the image and add to the list\n",
    "    return np.array(images), np.array(labels)"
   ]
  },
  {
   "cell_type": "code",
<<<<<<< HEAD
   "execution_count": 5,
   "metadata": {},
   "outputs": [],
   "source": [
    "train_folder = r\"C:\\Users\\jofin\\Desktop\\Prodigy\\prodigy_ml_01\\PRODIGY_ML_01\\PRODIGY_ML_03\\trainCatDog\".replace(\"\\\\\",\"/\")\n",
    "test_folder = r\"C:\\Users\\jofin\\Desktop\\Prodigy\\prodigy_ml_01\\PRODIGY_ML_01\\PRODIGY_ML_03\\test1\".replace(\"\\\\\",\"/\")"
=======
   "execution_count": 17,
   "metadata": {},
   "outputs": [],
   "source": [
    "train_folder = \"C:\\ARUN M\\Prodigy Infotech\\Task3/train\".replace(\"\\\\\",\"/\")\n",
    "test_folder = \"C:\\ARUN M\\Prodigy Infotech\\Task3/test1\".replace(\"\\\\\",\"/\")"
>>>>>>> 60b3f957cef2b1d9b77892801f1f59546a40e1fb
   ]
  },
  {
   "cell_type": "code",
<<<<<<< HEAD
   "execution_count": 7,
=======
   "execution_count": 18,
>>>>>>> 60b3f957cef2b1d9b77892801f1f59546a40e1fb
   "metadata": {},
   "outputs": [],
   "source": [
    "X_train, y_train = load_images(train_folder)"
   ]
  },
  {
   "cell_type": "code",
<<<<<<< HEAD
   "execution_count": null,
=======
   "execution_count": 19,
>>>>>>> 60b3f957cef2b1d9b77892801f1f59546a40e1fb
   "metadata": {},
   "outputs": [],
   "source": [
    "X_test, y_test = load_images(test_folder)"
   ]
  },
  {
   "cell_type": "code",
<<<<<<< HEAD
   "execution_count": null,
=======
   "execution_count": 20,
>>>>>>> 60b3f957cef2b1d9b77892801f1f59546a40e1fb
   "metadata": {},
   "outputs": [],
   "source": [
    "svm_model = SVC(kernel='linear')"
   ]
  },
  {
   "cell_type": "code",
   "execution_count": null,
   "metadata": {},
   "outputs": [],
   "source": [
    "svm_model.fit(X_train, y_train)"
   ]
  },
  {
   "cell_type": "code",
   "execution_count": null,
   "metadata": {},
   "outputs": [],
   "source": [
    "y_pred = svm_model.predict(X_test)"
   ]
  },
  {
   "cell_type": "code",
   "execution_count": null,
   "metadata": {},
   "outputs": [],
   "source": [
    "accuracy = accuracy_score(y_test, y_pred)\n",
    "print(\"Accuracy:\", accuracy)"
   ]
  }
 ],
 "metadata": {
  "kernelspec": {
   "display_name": "Python 3",
   "language": "python",
   "name": "python3"
  },
  "language_info": {
   "codemirror_mode": {
    "name": "ipython",
    "version": 3
   },
   "file_extension": ".py",
   "mimetype": "text/x-python",
   "name": "python",
   "nbconvert_exporter": "python",
   "pygments_lexer": "ipython3",
<<<<<<< HEAD
   "version": "3.11.1"
=======
   "version": "3.10.11"
>>>>>>> 60b3f957cef2b1d9b77892801f1f59546a40e1fb
  },
  "orig_nbformat": 4
 },
 "nbformat": 4,
 "nbformat_minor": 2
}
